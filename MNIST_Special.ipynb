{
  "nbformat": 4,
  "nbformat_minor": 0,
  "metadata": {
    "colab": {
      "provenance": []
    },
    "kernelspec": {
      "name": "python3",
      "display_name": "Python 3"
    },
    "language_info": {
      "name": "python"
    }
  },
  "cells": [
    {
      "cell_type": "code",
      "execution_count": null,
      "metadata": {
        "id": "WK9FqrygmHqD"
      },
      "outputs": [],
      "source": [
        "#Importing the necessary libraries\n",
        "import tensorflow as tf\n",
        "from tensorflow.keras.layers import Layer,Dense, Flatten,Dropout,Lambda,Input\n",
        "from tensorflow.keras.models import Model\n",
        "import random\n",
        "import numpy as np\n",
        "import matplotlib.pyplot as plt\n",
        "from tensorflow.keras.preprocessing.image import ImageDataGenerator\n",
        "from sklearn.metrics import accuracy_score\n",
        "from sklearn.metrics import classification_report\n",
        "from sklearn.model_selection import train_test_split"
      ]
    },
    {
      "cell_type": "code",
      "source": [
        "#Importing the dataset from tensorflow\n",
        "(x_train,y_train),(x_test,y_test)=tf.keras.datasets.mnist.load_data()"
      ],
      "metadata": {
        "id": "lR04-lu8mxIT",
        "colab": {
          "base_uri": "https://localhost:8080/"
        },
        "outputId": "43835a2d-f42a-4d3d-e9a7-fb4a2e14361e"
      },
      "execution_count": null,
      "outputs": [
        {
          "output_type": "stream",
          "name": "stdout",
          "text": [
            "Downloading data from https://storage.googleapis.com/tensorflow/tf-keras-datasets/mnist.npz\n",
            "\u001b[1m11490434/11490434\u001b[0m \u001b[32m━━━━━━━━━━━━━━━━━━━━\u001b[0m\u001b[37m\u001b[0m \u001b[1m0s\u001b[0m 0us/step\n"
          ]
        }
      ]
    },
    {
      "cell_type": "code",
      "source": [
        "#Verifying the size,shape of the input data\n",
        "print(x_train.shape)\n",
        "print(y_train.shape)\n",
        "print(x_test.shape)\n",
        "print(y_test.shape)"
      ],
      "metadata": {
        "colab": {
          "base_uri": "https://localhost:8080/"
        },
        "id": "oG5ggHFnntcF",
        "outputId": "ab3d9d4f-9039-4fb4-9617-6c0c246e388a"
      },
      "execution_count": null,
      "outputs": [
        {
          "output_type": "stream",
          "name": "stdout",
          "text": [
            "(60000, 28, 28)\n",
            "(60000,)\n",
            "(10000, 28, 28)\n",
            "(10000,)\n"
          ]
        }
      ]
    },
    {
      "cell_type": "code",
      "source": [
        "x_train[0]"
      ],
      "metadata": {
        "colab": {
          "base_uri": "https://localhost:8080/",
          "height": 69
        },
        "id": "CU1reTOCA5Id",
        "outputId": "e675f31c-7f0d-4965-bf2a-c5766c68ae1d"
      },
      "execution_count": null,
      "outputs": [
        {
          "output_type": "execute_result",
          "data": {
            "text/plain": [
              "array([[  0,   0,   0,   0,   0,   0,   0,   0,   0,   0,   0,   0,   0,\n",
              "          0,   0,   0,   0,   0,   0,   0,   0,   0,   0,   0,   0,   0,\n",
              "          0,   0],\n",
              "       [  0,   0,   0,   0,   0,   0,   0,   0,   0,   0,   0,   0,   0,\n",
              "          0,   0,   0,   0,   0,   0,   0,   0,   0,   0,   0,   0,   0,\n",
              "          0,   0],\n",
              "       [  0,   0,   0,   0,   0,   0,   0,   0,   0,   0,   0,   0,   0,\n",
              "          0,   0,   0,   0,   0,   0,   0,   0,   0,   0,   0,   0,   0,\n",
              "          0,   0],\n",
              "       [  0,   0,   0,   0,   0,   0,   0,   0,   0,   0,   0,   0,   0,\n",
              "          0,   0,   0,   0,   0,   0,   0,   0,   0,   0,   0,   0,   0,\n",
              "          0,   0],\n",
              "       [  0,   0,   0,   0,   0,   0,   0,   0,   0,   0,   0,   0,   0,\n",
              "          0,   0,   0,   0,   0,   0,   0,   0,   0,   0,   0,   0,   0,\n",
              "          0,   0],\n",
              "       [  0,   0,   0,   0,   0,   0,   0,   0,   0,   0,   0,   0,   3,\n",
              "         18,  18,  18, 126, 136, 175,  26, 166, 255, 247, 127,   0,   0,\n",
              "          0,   0],\n",
              "       [  0,   0,   0,   0,   0,   0,   0,   0,  30,  36,  94, 154, 170,\n",
              "        253, 253, 253, 253, 253, 225, 172, 253, 242, 195,  64,   0,   0,\n",
              "          0,   0],\n",
              "       [  0,   0,   0,   0,   0,   0,   0,  49, 238, 253, 253, 253, 253,\n",
              "        253, 253, 253, 253, 251,  93,  82,  82,  56,  39,   0,   0,   0,\n",
              "          0,   0],\n",
              "       [  0,   0,   0,   0,   0,   0,   0,  18, 219, 253, 253, 253, 253,\n",
              "        253, 198, 182, 247, 241,   0,   0,   0,   0,   0,   0,   0,   0,\n",
              "          0,   0],\n",
              "       [  0,   0,   0,   0,   0,   0,   0,   0,  80, 156, 107, 253, 253,\n",
              "        205,  11,   0,  43, 154,   0,   0,   0,   0,   0,   0,   0,   0,\n",
              "          0,   0],\n",
              "       [  0,   0,   0,   0,   0,   0,   0,   0,   0,  14,   1, 154, 253,\n",
              "         90,   0,   0,   0,   0,   0,   0,   0,   0,   0,   0,   0,   0,\n",
              "          0,   0],\n",
              "       [  0,   0,   0,   0,   0,   0,   0,   0,   0,   0,   0, 139, 253,\n",
              "        190,   2,   0,   0,   0,   0,   0,   0,   0,   0,   0,   0,   0,\n",
              "          0,   0],\n",
              "       [  0,   0,   0,   0,   0,   0,   0,   0,   0,   0,   0,  11, 190,\n",
              "        253,  70,   0,   0,   0,   0,   0,   0,   0,   0,   0,   0,   0,\n",
              "          0,   0],\n",
              "       [  0,   0,   0,   0,   0,   0,   0,   0,   0,   0,   0,   0,  35,\n",
              "        241, 225, 160, 108,   1,   0,   0,   0,   0,   0,   0,   0,   0,\n",
              "          0,   0],\n",
              "       [  0,   0,   0,   0,   0,   0,   0,   0,   0,   0,   0,   0,   0,\n",
              "         81, 240, 253, 253, 119,  25,   0,   0,   0,   0,   0,   0,   0,\n",
              "          0,   0],\n",
              "       [  0,   0,   0,   0,   0,   0,   0,   0,   0,   0,   0,   0,   0,\n",
              "          0,  45, 186, 253, 253, 150,  27,   0,   0,   0,   0,   0,   0,\n",
              "          0,   0],\n",
              "       [  0,   0,   0,   0,   0,   0,   0,   0,   0,   0,   0,   0,   0,\n",
              "          0,   0,  16,  93, 252, 253, 187,   0,   0,   0,   0,   0,   0,\n",
              "          0,   0],\n",
              "       [  0,   0,   0,   0,   0,   0,   0,   0,   0,   0,   0,   0,   0,\n",
              "          0,   0,   0,   0, 249, 253, 249,  64,   0,   0,   0,   0,   0,\n",
              "          0,   0],\n",
              "       [  0,   0,   0,   0,   0,   0,   0,   0,   0,   0,   0,   0,   0,\n",
              "          0,  46, 130, 183, 253, 253, 207,   2,   0,   0,   0,   0,   0,\n",
              "          0,   0],\n",
              "       [  0,   0,   0,   0,   0,   0,   0,   0,   0,   0,   0,   0,  39,\n",
              "        148, 229, 253, 253, 253, 250, 182,   0,   0,   0,   0,   0,   0,\n",
              "          0,   0],\n",
              "       [  0,   0,   0,   0,   0,   0,   0,   0,   0,   0,  24, 114, 221,\n",
              "        253, 253, 253, 253, 201,  78,   0,   0,   0,   0,   0,   0,   0,\n",
              "          0,   0],\n",
              "       [  0,   0,   0,   0,   0,   0,   0,   0,  23,  66, 213, 253, 253,\n",
              "        253, 253, 198,  81,   2,   0,   0,   0,   0,   0,   0,   0,   0,\n",
              "          0,   0],\n",
              "       [  0,   0,   0,   0,   0,   0,  18, 171, 219, 253, 253, 253, 253,\n",
              "        195,  80,   9,   0,   0,   0,   0,   0,   0,   0,   0,   0,   0,\n",
              "          0,   0],\n",
              "       [  0,   0,   0,   0,  55, 172, 226, 253, 253, 253, 253, 244, 133,\n",
              "         11,   0,   0,   0,   0,   0,   0,   0,   0,   0,   0,   0,   0,\n",
              "          0,   0],\n",
              "       [  0,   0,   0,   0, 136, 253, 253, 253, 212, 135, 132,  16,   0,\n",
              "          0,   0,   0,   0,   0,   0,   0,   0,   0,   0,   0,   0,   0,\n",
              "          0,   0],\n",
              "       [  0,   0,   0,   0,   0,   0,   0,   0,   0,   0,   0,   0,   0,\n",
              "          0,   0,   0,   0,   0,   0,   0,   0,   0,   0,   0,   0,   0,\n",
              "          0,   0],\n",
              "       [  0,   0,   0,   0,   0,   0,   0,   0,   0,   0,   0,   0,   0,\n",
              "          0,   0,   0,   0,   0,   0,   0,   0,   0,   0,   0,   0,   0,\n",
              "          0,   0],\n",
              "       [  0,   0,   0,   0,   0,   0,   0,   0,   0,   0,   0,   0,   0,\n",
              "          0,   0,   0,   0,   0,   0,   0,   0,   0,   0,   0,   0,   0,\n",
              "          0,   0]], dtype=uint8)"
            ],
            "text/html": [
              "<style>\n",
              "      .ndarray_repr .ndarray_raw_data {\n",
              "        display: none;\n",
              "      }\n",
              "      .ndarray_repr.show_array .ndarray_raw_data {\n",
              "        display: block;\n",
              "      }\n",
              "      .ndarray_repr.show_array .ndarray_image_preview {\n",
              "        display: none;\n",
              "      }\n",
              "      </style>\n",
              "      <div id=\"id-ba1d9a23-124d-49b9-935e-23ee6c64db83\" class=\"ndarray_repr\"><pre>ndarray (28, 28) <button style=\"padding: 0 2px;\">show data</button></pre><img src=\"data:image/png;base64,iVBORw0KGgoAAAANSUhEUgAAABwAAAAcCAAAAABXZoBIAAABAElEQVR4nGNgGMyAWUhIqK5jvdSy/9/rGRgYGFhgEnJsVjYCwQwMDAxPJgV+vniQgYGBgREqZ7iXH8r6l/SV4dn7m8gmCt3++/fv37/Htn3/iMW+gDnZf/+e5WbQnoXNNXyMs/5GoQoxwVmf/n9kSGFiwAW49/11wynJoPzx4YIcRlyygR/+/i2XxCWru+vv32nSuGQFYv/83Y3b4p9/fzpAmSyoMnohpiwM1w5h06Q+5enfv39/bcMiJVF09+/fv39P+mFKiTtd/fv3799jgZiBJLT69t+/f/8eDuDEkDJf8+jv379/v7Ryo4qzMDAwMAQGMjBc3/y35wM2V1IfAABFF16Aa0wAOwAAAABJRU5ErkJggg==\" class=\"ndarray_image_preview\" /><pre class=\"ndarray_raw_data\">array([[  0,   0,   0,   0,   0,   0,   0,   0,   0,   0,   0,   0,   0,\n",
              "          0,   0,   0,   0,   0,   0,   0,   0,   0,   0,   0,   0,   0,\n",
              "          0,   0],\n",
              "       [  0,   0,   0,   0,   0,   0,   0,   0,   0,   0,   0,   0,   0,\n",
              "          0,   0,   0,   0,   0,   0,   0,   0,   0,   0,   0,   0,   0,\n",
              "          0,   0],\n",
              "       [  0,   0,   0,   0,   0,   0,   0,   0,   0,   0,   0,   0,   0,\n",
              "          0,   0,   0,   0,   0,   0,   0,   0,   0,   0,   0,   0,   0,\n",
              "          0,   0],\n",
              "       [  0,   0,   0,   0,   0,   0,   0,   0,   0,   0,   0,   0,   0,\n",
              "          0,   0,   0,   0,   0,   0,   0,   0,   0,   0,   0,   0,   0,\n",
              "          0,   0],\n",
              "       [  0,   0,   0,   0,   0,   0,   0,   0,   0,   0,   0,   0,   0,\n",
              "          0,   0,   0,   0,   0,   0,   0,   0,   0,   0,   0,   0,   0,\n",
              "          0,   0],\n",
              "       [  0,   0,   0,   0,   0,   0,   0,   0,   0,   0,   0,   0,   3,\n",
              "         18,  18,  18, 126, 136, 175,  26, 166, 255, 247, 127,   0,   0,\n",
              "          0,   0],\n",
              "       [  0,   0,   0,   0,   0,   0,   0,   0,  30,  36,  94, 154, 170,\n",
              "        253, 253, 253, 253, 253, 225, 172, 253, 242, 195,  64,   0,   0,\n",
              "          0,   0],\n",
              "       [  0,   0,   0,   0,   0,   0,   0,  49, 238, 253, 253, 253, 253,\n",
              "        253, 253, 253, 253, 251,  93,  82,  82,  56,  39,   0,   0,   0,\n",
              "          0,   0],\n",
              "       [  0,   0,   0,   0,   0,   0,   0,  18, 219, 253, 253, 253, 253,\n",
              "        253, 198, 182, 247, 241,   0,   0,   0,   0,   0,   0,   0,   0,\n",
              "          0,   0],\n",
              "       [  0,   0,   0,   0,   0,   0,   0,   0,  80, 156, 107, 253, 253,\n",
              "        205,  11,   0,  43, 154,   0,   0,   0,   0,   0,   0,   0,   0,\n",
              "          0,   0],\n",
              "       [  0,   0,   0,   0,   0,   0,   0,   0,   0,  14,   1, 154, 253,\n",
              "         90,   0,   0,   0,   0,   0,   0,   0,   0,   0,   0,   0,   0,\n",
              "          0,   0],\n",
              "       [  0,   0,   0,   0,   0,   0,   0,   0,   0,   0,   0, 139, 253,\n",
              "        190,   2,   0,   0,   0,   0,   0,   0,   0,   0,   0,   0,   0,\n",
              "          0,   0],\n",
              "       [  0,   0,   0,   0,   0,   0,   0,   0,   0,   0,   0,  11, 190,\n",
              "        253,  70,   0,   0,   0,   0,   0,   0,   0,   0,   0,   0,   0,\n",
              "          0,   0],\n",
              "       [  0,   0,   0,   0,   0,   0,   0,   0,   0,   0,   0,   0,  35,\n",
              "        241, 225, 160, 108,   1,   0,   0,   0,   0,   0,   0,   0,   0,\n",
              "          0,   0],\n",
              "       [  0,   0,   0,   0,   0,   0,   0,   0,   0,   0,   0,   0,   0,\n",
              "         81, 240, 253, 253, 119,  25,   0,   0,   0,   0,   0,   0,   0,\n",
              "          0,   0],\n",
              "       [  0,   0,   0,   0,   0,   0,   0,   0,   0,   0,   0,   0,   0,\n",
              "          0,  45, 186, 253, 253, 150,  27,   0,   0,   0,   0,   0,   0,\n",
              "          0,   0],\n",
              "       [  0,   0,   0,   0,   0,   0,   0,   0,   0,   0,   0,   0,   0,\n",
              "          0,   0,  16,  93, 252, 253, 187,   0,   0,   0,   0,   0,   0,\n",
              "          0,   0],\n",
              "       [  0,   0,   0,   0,   0,   0,   0,   0,   0,   0,   0,   0,   0,\n",
              "          0,   0,   0,   0, 249, 253, 249,  64,   0,   0,   0,   0,   0,\n",
              "          0,   0],\n",
              "       [  0,   0,   0,   0,   0,   0,   0,   0,   0,   0,   0,   0,   0,\n",
              "          0,  46, 130, 183, 253, 253, 207,   2,   0,   0,   0,   0,   0,\n",
              "          0,   0],\n",
              "       [  0,   0,   0,   0,   0,   0,   0,   0,   0,   0,   0,   0,  39,\n",
              "        148, 229, 253, 253, 253, 250, 182,   0,   0,   0,   0,   0,   0,\n",
              "          0,   0],\n",
              "       [  0,   0,   0,   0,   0,   0,   0,   0,   0,   0,  24, 114, 221,\n",
              "        253, 253, 253, 253, 201,  78,   0,   0,   0,   0,   0,   0,   0,\n",
              "          0,   0],\n",
              "       [  0,   0,   0,   0,   0,   0,   0,   0,  23,  66, 213, 253, 253,\n",
              "        253, 253, 198,  81,   2,   0,   0,   0,   0,   0,   0,   0,   0,\n",
              "          0,   0],\n",
              "       [  0,   0,   0,   0,   0,   0,  18, 171, 219, 253, 253, 253, 253,\n",
              "        195,  80,   9,   0,   0,   0,   0,   0,   0,   0,   0,   0,   0,\n",
              "          0,   0],\n",
              "       [  0,   0,   0,   0,  55, 172, 226, 253, 253, 253, 253, 244, 133,\n",
              "         11,   0,   0,   0,   0,   0,   0,   0,   0,   0,   0,   0,   0,\n",
              "          0,   0],\n",
              "       [  0,   0,   0,   0, 136, 253, 253, 253, 212, 135, 132,  16,   0,\n",
              "          0,   0,   0,   0,   0,   0,   0,   0,   0,   0,   0,   0,   0,\n",
              "          0,   0],\n",
              "       [  0,   0,   0,   0,   0,   0,   0,   0,   0,   0,   0,   0,   0,\n",
              "          0,   0,   0,   0,   0,   0,   0,   0,   0,   0,   0,   0,   0,\n",
              "          0,   0],\n",
              "       [  0,   0,   0,   0,   0,   0,   0,   0,   0,   0,   0,   0,   0,\n",
              "          0,   0,   0,   0,   0,   0,   0,   0,   0,   0,   0,   0,   0,\n",
              "          0,   0],\n",
              "       [  0,   0,   0,   0,   0,   0,   0,   0,   0,   0,   0,   0,   0,\n",
              "          0,   0,   0,   0,   0,   0,   0,   0,   0,   0,   0,   0,   0,\n",
              "          0,   0]], dtype=uint8)</pre></div><script>\n",
              "      (() => {\n",
              "      const titles = ['show data', 'hide data'];\n",
              "      let index = 0\n",
              "      document.querySelector('#id-ba1d9a23-124d-49b9-935e-23ee6c64db83 button').onclick = (e) => {\n",
              "        document.querySelector('#id-ba1d9a23-124d-49b9-935e-23ee6c64db83').classList.toggle('show_array');\n",
              "        index = (++index) % 2;\n",
              "        document.querySelector('#id-ba1d9a23-124d-49b9-935e-23ee6c64db83 button').textContent = titles[index];\n",
              "        e.preventDefault();\n",
              "        e.stopPropagation();\n",
              "      }\n",
              "      })();\n",
              "    </script>"
            ]
          },
          "metadata": {},
          "execution_count": 4
        }
      ]
    },
    {
      "cell_type": "code",
      "source": [
        "#Given that the original data provides training and test sets,a validation set is also prepared\n",
        "\n",
        "'''\n",
        "Splitting up the original dataset into training and validaton sets in ratio 90:10\n",
        "random state is set to a particular number so that results are consistent with each iteration of program running\n",
        "'''\n",
        "\n",
        "train_x,val_x,train_y,val_y=train_test_split(x_train,y_train, test_size=0.1, random_state=27, shuffle=True)"
      ],
      "metadata": {
        "id": "XLrShqyECez8"
      },
      "execution_count": null,
      "outputs": []
    },
    {
      "cell_type": "code",
      "source": [
        "#Given that the input images in the RGB channels have pixel values from 0 to 255,normalization is done\n",
        "#Normalizing the data\n",
        "train_x=train_x/255.0\n",
        "val_x=val_x/255.0\n",
        "x_test=x_test/255.0\n",
        "\n",
        "#One hot encoding the labels into corresponding vectors\n",
        "train_y=tf.keras.utils.to_categorical(train_y)\n",
        "val_y=tf.keras.utils.to_categorical(val_y)\n",
        "\n",
        "print(\"train_x.shape\", train_x.shape)\n",
        "print(\"val_x.shape\", val_x.shape)\n",
        "print(\"train_y.shape\",train_y.shape)\n",
        "print(\"val_y.shape\", val_y.shape)"
      ],
      "metadata": {
        "colab": {
          "base_uri": "https://localhost:8080/"
        },
        "id": "IXiFpKoEoR3_",
        "outputId": "7b4ccb58-ee77-464a-dac5-ba7341c9ab8f"
      },
      "execution_count": null,
      "outputs": [
        {
          "output_type": "stream",
          "name": "stdout",
          "text": [
            "train_x.shape (54000, 28, 28)\n",
            "val_x.shape (6000, 28, 28)\n",
            "train_y.shape (54000, 10)\n",
            "val_y.shape (6000, 10)\n"
          ]
        }
      ]
    },
    {
      "cell_type": "code",
      "source": [
        "#Instantiate the ImageDataGenerator class for the training and validation sets\n",
        "train_datagen = ImageDataGenerator()\n",
        "val_datagen = ImageDataGenerator()"
      ],
      "metadata": {
        "id": "uzPEoI24DRh4"
      },
      "execution_count": null,
      "outputs": []
    },
    {
      "cell_type": "code",
      "source": [
        "#creation of Quadratic,Cubic,Quartic neurons\n",
        "\n",
        "class Quadratic_Dense(Layer):\n",
        "\n",
        "  def __init__(self,units=16,activation=None):\n",
        "    super(Quadratic_Dense,self).__init__()\n",
        "    self.units=units\n",
        "    self.activation=tf.keras.activations.get(activation)\n",
        "\n",
        "  def build(self,input_shape):\n",
        "    a=tf.random_normal_initializer()\n",
        "    b=tf.random_normal_initializer()\n",
        "    c=tf.zeros_initializer()\n",
        "\n",
        "    self.a=self.add_weight(name='a',shape=(input_shape[-1],self.units),dtype='float32',initializer=a,trainable=True)\n",
        "\n",
        "    self.b=self.add_weight(name='b',shape=(input_shape[-1],self.units),dtype='float32',initializer=b,trainable=True)\n",
        "\n",
        "    self.c=self.add_weight(name='c',shape=(self.units,),dtype='float32',initializer=c,trainable=True)\n",
        "\n",
        "  def call(self,inputs):\n",
        "    self.x_2=tf.math.square(inputs)\n",
        "    self.value=tf.matmul(self.x_2,self.a)+tf.matmul(inputs,self.b)+self.c\n",
        "    return self.activation(self.value)\n",
        "\n",
        "####################################################\n",
        "class Cubic_Dense(Layer):\n",
        "\n",
        "  def __init__(self,units=16,activation=None):\n",
        "    super(Cubic_Dense,self).__init__()\n",
        "    self.units=units\n",
        "    self.activation=tf.keras.activations.get(activation)\n",
        "\n",
        "  def build(self,input_shape):\n",
        "    a=tf.random_normal_initializer()\n",
        "    b=tf.random_normal_initializer()\n",
        "    c=tf.random_normal_initializer()\n",
        "    d=tf.zeros_initializer()\n",
        "\n",
        "\n",
        "    self.a=self.add_weight(name='a',shape=(input_shape[-1],self.units),dtype='float32',initializer=a,trainable=True)\n",
        "\n",
        "    self.b=self.add_weight(name='b',shape=(input_shape[-1],self.units),dtype='float32',initializer=b,trainable=True)\n",
        "\n",
        "    self.c=self.add_weight(name='c',shape=(input_shape[-1],self.units),dtype='float32',initializer=c,trainable=True)\n",
        "\n",
        "    self.d=self.add_weight(name='d',shape=(self.units,),dtype='float32',initializer=d,trainable=True)\n",
        "\n",
        "  def call(self,inputs):\n",
        "    self.x_2=tf.math.square(inputs)\n",
        "    self.x_3=tf.math.pow(inputs,3)\n",
        "    self.value=tf.matmul(self.x_3,self.a)+tf.matmul(self.x_2,self.b)+tf.matmul(inputs,self.b)+self.d\n",
        "    return self.activation(self.value)\n",
        "\n",
        "####################################################\n",
        "class Quartic_Dense(Layer):\n",
        "\n",
        "  def __init__(self,units=16,activation=None):\n",
        "    super(Quartic_Dense,self).__init__()\n",
        "    self.units=units\n",
        "    self.activation=tf.keras.activations.get(activation)\n",
        "\n",
        "  def build(self,input_shape):\n",
        "    a=tf.random_normal_initializer()\n",
        "    b=tf.random_normal_initializer()\n",
        "    c=tf.random_normal_initializer()\n",
        "    d=tf.random_normal_initializer()\n",
        "    e=tf.zeros_initializer()\n",
        "\n",
        "    self.a=self.add_weight(name='a',shape=(input_shape[-1],self.units),dtype='float32',initializer=a,trainable=True)\n",
        "\n",
        "    self.b=self.add_weight(name='b',shape=(input_shape[-1],self.units),dtype='float32',initializer=b,trainable=True)\n",
        "\n",
        "    self.c=self.add_weight(name='c',shape=(input_shape[-1],self.units),dtype='float32',initializer=c,trainable=True)\n",
        "\n",
        "    self.d=self.add_weight(name='d',shape=(input_shape[-1],self.units),dtype='float32',initializer=d,trainable=True)\n",
        "\n",
        "    self.e=self.add_weight(name='e',shape=(self.units,),dtype='float32',initializer=e,trainable=True)\n",
        "\n",
        "  def call(self,inputs):\n",
        "    self.x_2=tf.math.square(inputs)\n",
        "    self.x_3=tf.math.pow(inputs,3)\n",
        "    self.x_4=tf.math.pow(inputs,4)\n",
        "    self.value=tf.matmul(self.x_4,self.a)+tf.matmul(self.x_3,self.b)+tf.matmul(self.x_2,self.c)+tf.matmul(inputs,self.d)+self.e\n",
        "    return self.activation(self.value)\n",
        "\n",
        "####################################################\n"
      ],
      "metadata": {
        "id": "aOHyWC54rC6m"
      },
      "execution_count": null,
      "outputs": []
    },
    {
      "cell_type": "code",
      "source": [
        "'''\n",
        "Definition of the model architectures is as below:\n",
        "\n",
        "Dense_Model:Typical model architecture where the dense layer is linear i.e, output=w1.x +b\n",
        "\n",
        "Quadratic_Model:Typical model architecture where the dense layer is quadratic i.e, output=w1.x^2 + w2.x +b\n",
        "\n",
        "Cubic_Model:Typical model architecture where the dense layer is cubic i.e, output=w1.x^3 + w2.x^2 + w3.x +b\n",
        "\n",
        "Quartic_Model:Typical model architecture where the dense layer is biquadratic i.e, output=w1.x^4 + w2.x^3 + w3.x^2 + w4.x +b\n",
        "'''\n",
        "\n",
        "def Dense_Model():\n",
        "  input_layer=Input(shape=(28,28))\n",
        "\n",
        "  flatten_layer=Flatten()(input_layer)\n",
        "  Dense_1=Dense(units=64,activation='relu')(flatten_layer)\n",
        "  Dense_2=Dense(units=64,activation='relu')(Dense_1)\n",
        "  layer=Dropout(0.15)(Dense_2)\n",
        "  output=Dense(units=10,activation='softmax')(layer)\n",
        "\n",
        "  return Model(inputs=input_layer,outputs=output)\n",
        "\n",
        "def Quadratic_Model():\n",
        "  input_layer=Input(shape=(28,28))\n",
        "\n",
        "  flatten_layer=Flatten()(input_layer)\n",
        "  Dense_1=Quadratic_Dense(units=64,activation='relu')(flatten_layer)\n",
        "  Dense_2=Quadratic_Dense(units=64,activation='relu')(Dense_1)\n",
        "  layer=Dropout(0.15)(Dense_2)\n",
        "\n",
        "  output=Quadratic_Dense(units=10,activation='softmax')(layer)\n",
        "\n",
        "  return Model(inputs=input_layer,outputs=output)\n",
        "\n",
        "def Cubic_Model():\n",
        "  input_layer=Input(shape=(28,28))\n",
        "\n",
        "  flatten_layer=Flatten()(input_layer)\n",
        "  Dense_1=Cubic_Dense(units=64,activation='relu')(flatten_layer)\n",
        "  Dense_2=Cubic_Dense(units=64,activation='relu')(Dense_1)\n",
        "  layer=Dropout(0.15)(Dense_2)\n",
        "\n",
        "  output=Cubic_Dense(units=10,activation='softmax')(layer)\n",
        "\n",
        "  return Model(inputs=input_layer,outputs=output)\n",
        "\n",
        "def Quartic_Model():\n",
        "  input_layer=Input(shape=(28,28))\n",
        "\n",
        "  flatten_layer=Flatten()(input_layer)\n",
        "  Dense_1=Quartic_Dense(units=64,activation='relu')(flatten_layer)\n",
        "  Dense_2=Quartic_Dense(units=64,activation='relu')(Dense_1)\n",
        "  layer=Dropout(0.15)(Dense_2)\n",
        "\n",
        "  output=Quartic_Dense(units=10,activation='softmax')(layer)\n",
        "\n",
        "  return Model(inputs=input_layer,outputs=output)\n",
        "\n"
      ],
      "metadata": {
        "id": "IffIVO5CobXw"
      },
      "execution_count": null,
      "outputs": []
    },
    {
      "cell_type": "code",
      "source": [
        "m1=Dense_Model()\n",
        "m1.compile(optimizer=tf.keras.optimizers.Adam(),metrics=['accuracy'],loss='categorical_crossentropy')\n",
        "\n",
        "m2=Quadratic_Model()\n",
        "m2.compile(optimizer=tf.keras.optimizers.Adam(),metrics=['accuracy'],loss='categorical_crossentropy')\n",
        "\n",
        "m3=Cubic_Model()\n",
        "m3.compile(optimizer=tf.keras.optimizers.Adam(),metrics=['accuracy'],loss='categorical_crossentropy')\n",
        "\n",
        "m4=Quartic_Model()\n",
        "m4.compile(optimizer=tf.keras.optimizers.Adam(),metrics=['accuracy'],loss='categorical_crossentropy')"
      ],
      "metadata": {
        "id": "6QIs8BFnor5l"
      },
      "execution_count": null,
      "outputs": []
    },
    {
      "cell_type": "code",
      "source": [
        "#Conduction of the training\n",
        "linear_history = m1.fit(\n",
        "      train_x,train_y,\n",
        "      epochs=15,\n",
        "      verbose=1,\n",
        "      validation_data=(val_x,val_y),\n",
        "      )"
      ],
      "metadata": {
        "colab": {
          "base_uri": "https://localhost:8080/"
        },
        "id": "qxipSheFI247",
        "outputId": "6c873aaf-38ca-46dc-cb96-e5b754ab4029"
      },
      "execution_count": null,
      "outputs": [
        {
          "output_type": "stream",
          "name": "stdout",
          "text": [
            "Epoch 1/15\n",
            "\u001b[1m1688/1688\u001b[0m \u001b[32m━━━━━━━━━━━━━━━━━━━━\u001b[0m\u001b[37m\u001b[0m \u001b[1m8s\u001b[0m 3ms/step - accuracy: 0.8343 - loss: 0.5471 - val_accuracy: 0.9522 - val_loss: 0.1692\n",
            "Epoch 2/15\n",
            "\u001b[1m1688/1688\u001b[0m \u001b[32m━━━━━━━━━━━━━━━━━━━━\u001b[0m\u001b[37m\u001b[0m \u001b[1m13s\u001b[0m 5ms/step - accuracy: 0.9526 - loss: 0.1563 - val_accuracy: 0.9622 - val_loss: 0.1299\n",
            "Epoch 3/15\n",
            "\u001b[1m1688/1688\u001b[0m \u001b[32m━━━━━━━━━━━━━━━━━━━━\u001b[0m\u001b[37m\u001b[0m \u001b[1m7s\u001b[0m 3ms/step - accuracy: 0.9667 - loss: 0.1112 - val_accuracy: 0.9663 - val_loss: 0.1259\n",
            "Epoch 4/15\n",
            "\u001b[1m1688/1688\u001b[0m \u001b[32m━━━━━━━━━━━━━━━━━━━━\u001b[0m\u001b[37m\u001b[0m \u001b[1m4s\u001b[0m 2ms/step - accuracy: 0.9740 - loss: 0.0866 - val_accuracy: 0.9658 - val_loss: 0.1165\n",
            "Epoch 5/15\n",
            "\u001b[1m1688/1688\u001b[0m \u001b[32m━━━━━━━━━━━━━━━━━━━━\u001b[0m\u001b[37m\u001b[0m \u001b[1m7s\u001b[0m 3ms/step - accuracy: 0.9754 - loss: 0.0766 - val_accuracy: 0.9698 - val_loss: 0.1031\n",
            "Epoch 6/15\n",
            "\u001b[1m1688/1688\u001b[0m \u001b[32m━━━━━━━━━━━━━━━━━━━━\u001b[0m\u001b[37m\u001b[0m \u001b[1m4s\u001b[0m 2ms/step - accuracy: 0.9803 - loss: 0.0622 - val_accuracy: 0.9727 - val_loss: 0.1139\n",
            "Epoch 7/15\n",
            "\u001b[1m1688/1688\u001b[0m \u001b[32m━━━━━━━━━━━━━━━━━━━━\u001b[0m\u001b[37m\u001b[0m \u001b[1m4s\u001b[0m 2ms/step - accuracy: 0.9830 - loss: 0.0517 - val_accuracy: 0.9717 - val_loss: 0.1040\n",
            "Epoch 8/15\n",
            "\u001b[1m1688/1688\u001b[0m \u001b[32m━━━━━━━━━━━━━━━━━━━━\u001b[0m\u001b[37m\u001b[0m \u001b[1m4s\u001b[0m 3ms/step - accuracy: 0.9854 - loss: 0.0465 - val_accuracy: 0.9713 - val_loss: 0.1077\n",
            "Epoch 9/15\n",
            "\u001b[1m1688/1688\u001b[0m \u001b[32m━━━━━━━━━━━━━━━━━━━━\u001b[0m\u001b[37m\u001b[0m \u001b[1m4s\u001b[0m 2ms/step - accuracy: 0.9861 - loss: 0.0442 - val_accuracy: 0.9698 - val_loss: 0.1135\n",
            "Epoch 10/15\n",
            "\u001b[1m1688/1688\u001b[0m \u001b[32m━━━━━━━━━━━━━━━━━━━━\u001b[0m\u001b[37m\u001b[0m \u001b[1m4s\u001b[0m 2ms/step - accuracy: 0.9878 - loss: 0.0379 - val_accuracy: 0.9727 - val_loss: 0.1201\n",
            "Epoch 11/15\n",
            "\u001b[1m1688/1688\u001b[0m \u001b[32m━━━━━━━━━━━━━━━━━━━━\u001b[0m\u001b[37m\u001b[0m \u001b[1m7s\u001b[0m 3ms/step - accuracy: 0.9874 - loss: 0.0372 - val_accuracy: 0.9697 - val_loss: 0.1208\n",
            "Epoch 12/15\n",
            "\u001b[1m1688/1688\u001b[0m \u001b[32m━━━━━━━━━━━━━━━━━━━━\u001b[0m\u001b[37m\u001b[0m \u001b[1m4s\u001b[0m 2ms/step - accuracy: 0.9905 - loss: 0.0294 - val_accuracy: 0.9747 - val_loss: 0.1133\n",
            "Epoch 13/15\n",
            "\u001b[1m1688/1688\u001b[0m \u001b[32m━━━━━━━━━━━━━━━━━━━━\u001b[0m\u001b[37m\u001b[0m \u001b[1m4s\u001b[0m 2ms/step - accuracy: 0.9906 - loss: 0.0284 - val_accuracy: 0.9737 - val_loss: 0.1209\n",
            "Epoch 14/15\n",
            "\u001b[1m1688/1688\u001b[0m \u001b[32m━━━━━━━━━━━━━━━━━━━━\u001b[0m\u001b[37m\u001b[0m \u001b[1m7s\u001b[0m 3ms/step - accuracy: 0.9904 - loss: 0.0294 - val_accuracy: 0.9737 - val_loss: 0.1153\n",
            "Epoch 15/15\n",
            "\u001b[1m1688/1688\u001b[0m \u001b[32m━━━━━━━━━━━━━━━━━━━━\u001b[0m\u001b[37m\u001b[0m \u001b[1m4s\u001b[0m 2ms/step - accuracy: 0.9913 - loss: 0.0260 - val_accuracy: 0.9750 - val_loss: 0.1141\n"
          ]
        }
      ]
    },
    {
      "cell_type": "code",
      "source": [
        "quad_history = m2.fit(\n",
        "      train_x,train_y,\n",
        "      epochs=15,\n",
        "      verbose=1,\n",
        "      validation_data=(val_x,val_y),\n",
        "      )"
      ],
      "metadata": {
        "colab": {
          "base_uri": "https://localhost:8080/"
        },
        "id": "DeseKzWnNw99",
        "outputId": "5e625a18-c3e6-4fef-bbc2-cb7fbc171019"
      },
      "execution_count": null,
      "outputs": [
        {
          "output_type": "stream",
          "name": "stdout",
          "text": [
            "Epoch 1/15\n",
            "\u001b[1m1688/1688\u001b[0m \u001b[32m━━━━━━━━━━━━━━━━━━━━\u001b[0m\u001b[37m\u001b[0m \u001b[1m6s\u001b[0m 3ms/step - accuracy: 0.8418 - loss: 0.5417 - val_accuracy: 0.9515 - val_loss: 0.1829\n",
            "Epoch 2/15\n",
            "\u001b[1m1688/1688\u001b[0m \u001b[32m━━━━━━━━━━━━━━━━━━━━\u001b[0m\u001b[37m\u001b[0m \u001b[1m6s\u001b[0m 4ms/step - accuracy: 0.9536 - loss: 0.1614 - val_accuracy: 0.9553 - val_loss: 0.1554\n",
            "Epoch 3/15\n",
            "\u001b[1m1688/1688\u001b[0m \u001b[32m━━━━━━━━━━━━━━━━━━━━\u001b[0m\u001b[37m\u001b[0m \u001b[1m11s\u001b[0m 4ms/step - accuracy: 0.9643 - loss: 0.1245 - val_accuracy: 0.9603 - val_loss: 0.1571\n",
            "Epoch 4/15\n",
            "\u001b[1m1688/1688\u001b[0m \u001b[32m━━━━━━━━━━━━━━━━━━━━\u001b[0m\u001b[37m\u001b[0m \u001b[1m8s\u001b[0m 3ms/step - accuracy: 0.9711 - loss: 0.0967 - val_accuracy: 0.9657 - val_loss: 0.1417\n",
            "Epoch 5/15\n",
            "\u001b[1m1688/1688\u001b[0m \u001b[32m━━━━━━━━━━━━━━━━━━━━\u001b[0m\u001b[37m\u001b[0m \u001b[1m7s\u001b[0m 4ms/step - accuracy: 0.9737 - loss: 0.0883 - val_accuracy: 0.9637 - val_loss: 0.1472\n",
            "Epoch 6/15\n",
            "\u001b[1m1688/1688\u001b[0m \u001b[32m━━━━━━━━━━━━━━━━━━━━\u001b[0m\u001b[37m\u001b[0m \u001b[1m5s\u001b[0m 3ms/step - accuracy: 0.9763 - loss: 0.0811 - val_accuracy: 0.9623 - val_loss: 0.1656\n",
            "Epoch 7/15\n",
            "\u001b[1m1688/1688\u001b[0m \u001b[32m━━━━━━━━━━━━━━━━━━━━\u001b[0m\u001b[37m\u001b[0m \u001b[1m5s\u001b[0m 3ms/step - accuracy: 0.9751 - loss: 0.0859 - val_accuracy: 0.9643 - val_loss: 0.1701\n",
            "Epoch 8/15\n",
            "\u001b[1m1688/1688\u001b[0m \u001b[32m━━━━━━━━━━━━━━━━━━━━\u001b[0m\u001b[37m\u001b[0m \u001b[1m6s\u001b[0m 3ms/step - accuracy: 0.9792 - loss: 0.0763 - val_accuracy: 0.9548 - val_loss: 0.2580\n",
            "Epoch 9/15\n",
            "\u001b[1m1688/1688\u001b[0m \u001b[32m━━━━━━━━━━━━━━━━━━━━\u001b[0m\u001b[37m\u001b[0m \u001b[1m4s\u001b[0m 3ms/step - accuracy: 0.9790 - loss: 0.0750 - val_accuracy: 0.9665 - val_loss: 0.1962\n",
            "Epoch 10/15\n",
            "\u001b[1m1688/1688\u001b[0m \u001b[32m━━━━━━━━━━━━━━━━━━━━\u001b[0m\u001b[37m\u001b[0m \u001b[1m7s\u001b[0m 3ms/step - accuracy: 0.9812 - loss: 0.0630 - val_accuracy: 0.9672 - val_loss: 0.1771\n",
            "Epoch 11/15\n",
            "\u001b[1m1688/1688\u001b[0m \u001b[32m━━━━━━━━━━━━━━━━━━━━\u001b[0m\u001b[37m\u001b[0m \u001b[1m9s\u001b[0m 3ms/step - accuracy: 0.9827 - loss: 0.0594 - val_accuracy: 0.9663 - val_loss: 0.1618\n",
            "Epoch 12/15\n",
            "\u001b[1m1688/1688\u001b[0m \u001b[32m━━━━━━━━━━━━━━━━━━━━\u001b[0m\u001b[37m\u001b[0m \u001b[1m7s\u001b[0m 4ms/step - accuracy: 0.9826 - loss: 0.0643 - val_accuracy: 0.9652 - val_loss: 0.1757\n",
            "Epoch 13/15\n",
            "\u001b[1m1688/1688\u001b[0m \u001b[32m━━━━━━━━━━━━━━━━━━━━\u001b[0m\u001b[37m\u001b[0m \u001b[1m4s\u001b[0m 3ms/step - accuracy: 0.9843 - loss: 0.0573 - val_accuracy: 0.9642 - val_loss: 0.2375\n",
            "Epoch 14/15\n",
            "\u001b[1m1688/1688\u001b[0m \u001b[32m━━━━━━━━━━━━━━━━━━━━\u001b[0m\u001b[37m\u001b[0m \u001b[1m6s\u001b[0m 3ms/step - accuracy: 0.9828 - loss: 0.0625 - val_accuracy: 0.9702 - val_loss: 0.2195\n",
            "Epoch 15/15\n",
            "\u001b[1m1688/1688\u001b[0m \u001b[32m━━━━━━━━━━━━━━━━━━━━\u001b[0m\u001b[37m\u001b[0m \u001b[1m5s\u001b[0m 3ms/step - accuracy: 0.9875 - loss: 0.0479 - val_accuracy: 0.9635 - val_loss: 0.2243\n"
          ]
        }
      ]
    },
    {
      "cell_type": "code",
      "source": [
        "cubic_history = m3.fit(\n",
        "      train_x,train_y,\n",
        "      epochs=15,\n",
        "      verbose=1,\n",
        "      validation_data=(val_x,val_y),\n",
        "      )"
      ],
      "metadata": {
        "colab": {
          "base_uri": "https://localhost:8080/"
        },
        "id": "kwho4IB-N0lj",
        "outputId": "8a093e5f-e613-4759-9fb0-5197735884ac"
      },
      "execution_count": null,
      "outputs": [
        {
          "output_type": "stream",
          "name": "stdout",
          "text": [
            "Epoch 1/15\n"
          ]
        },
        {
          "output_type": "stream",
          "name": "stderr",
          "text": [
            "/usr/local/lib/python3.10/dist-packages/keras/src/optimizers/base_optimizer.py:678: UserWarning: Gradients do not exist for variables ['c', 'c', 'c'] when minimizing the loss. If using `model.compile()`, did you forget to provide a `loss` argument?\n",
            "  warnings.warn(\n"
          ]
        },
        {
          "output_type": "stream",
          "name": "stdout",
          "text": [
            "\u001b[1m1688/1688\u001b[0m \u001b[32m━━━━━━━━━━━━━━━━━━━━\u001b[0m\u001b[37m\u001b[0m \u001b[1m8s\u001b[0m 4ms/step - accuracy: 0.6777 - loss: 1.4103 - val_accuracy: 0.7545 - val_loss: 0.8923\n",
            "Epoch 2/15\n",
            "\u001b[1m1688/1688\u001b[0m \u001b[32m━━━━━━━━━━━━━━━━━━━━\u001b[0m\u001b[37m\u001b[0m \u001b[1m6s\u001b[0m 4ms/step - accuracy: 0.7695 - loss: 1.0676 - val_accuracy: 0.8220 - val_loss: 0.6658\n",
            "Epoch 3/15\n",
            "\u001b[1m1688/1688\u001b[0m \u001b[32m━━━━━━━━━━━━━━━━━━━━\u001b[0m\u001b[37m\u001b[0m \u001b[1m11s\u001b[0m 4ms/step - accuracy: 0.8224 - loss: 0.6773 - val_accuracy: 0.8797 - val_loss: 0.5109\n",
            "Epoch 4/15\n",
            "\u001b[1m1688/1688\u001b[0m \u001b[32m━━━━━━━━━━━━━━━━━━━━\u001b[0m\u001b[37m\u001b[0m \u001b[1m9s\u001b[0m 3ms/step - accuracy: 0.8551 - loss: 0.8449 - val_accuracy: 0.8252 - val_loss: 0.6359\n",
            "Epoch 5/15\n",
            "\u001b[1m1688/1688\u001b[0m \u001b[32m━━━━━━━━━━━━━━━━━━━━\u001b[0m\u001b[37m\u001b[0m \u001b[1m10s\u001b[0m 3ms/step - accuracy: 0.8160 - loss: 0.7569 - val_accuracy: 0.8493 - val_loss: 0.5974\n",
            "Epoch 6/15\n",
            "\u001b[1m1688/1688\u001b[0m \u001b[32m━━━━━━━━━━━━━━━━━━━━\u001b[0m\u001b[37m\u001b[0m \u001b[1m7s\u001b[0m 4ms/step - accuracy: 0.8725 - loss: 0.5020 - val_accuracy: 0.8832 - val_loss: 0.4698\n",
            "Epoch 7/15\n",
            "\u001b[1m1688/1688\u001b[0m \u001b[32m━━━━━━━━━━━━━━━━━━━━\u001b[0m\u001b[37m\u001b[0m \u001b[1m5s\u001b[0m 3ms/step - accuracy: 0.8802 - loss: 0.5050 - val_accuracy: 0.9007 - val_loss: 0.9935\n",
            "Epoch 8/15\n",
            "\u001b[1m1688/1688\u001b[0m \u001b[32m━━━━━━━━━━━━━━━━━━━━\u001b[0m\u001b[37m\u001b[0m \u001b[1m6s\u001b[0m 4ms/step - accuracy: 0.8984 - loss: 0.5024 - val_accuracy: 0.7887 - val_loss: 6.1991\n",
            "Epoch 9/15\n",
            "\u001b[1m1688/1688\u001b[0m \u001b[32m━━━━━━━━━━━━━━━━━━━━\u001b[0m\u001b[37m\u001b[0m \u001b[1m9s\u001b[0m 3ms/step - accuracy: 0.7603 - loss: 2.4824 - val_accuracy: 0.8638 - val_loss: 0.6023\n",
            "Epoch 10/15\n",
            "\u001b[1m1688/1688\u001b[0m \u001b[32m━━━━━━━━━━━━━━━━━━━━\u001b[0m\u001b[37m\u001b[0m \u001b[1m10s\u001b[0m 3ms/step - accuracy: 0.8758 - loss: 0.4876 - val_accuracy: 0.8945 - val_loss: 0.7071\n",
            "Epoch 11/15\n",
            "\u001b[1m1688/1688\u001b[0m \u001b[32m━━━━━━━━━━━━━━━━━━━━\u001b[0m\u001b[37m\u001b[0m \u001b[1m10s\u001b[0m 3ms/step - accuracy: 0.9059 - loss: 0.3645 - val_accuracy: 0.8902 - val_loss: 0.8275\n",
            "Epoch 12/15\n",
            "\u001b[1m1688/1688\u001b[0m \u001b[32m━━━━━━━━━━━━━━━━━━━━\u001b[0m\u001b[37m\u001b[0m \u001b[1m11s\u001b[0m 4ms/step - accuracy: 0.8835 - loss: 0.6760 - val_accuracy: 0.8200 - val_loss: 0.6686\n",
            "Epoch 13/15\n",
            "\u001b[1m1688/1688\u001b[0m \u001b[32m━━━━━━━━━━━━━━━━━━━━\u001b[0m\u001b[37m\u001b[0m \u001b[1m11s\u001b[0m 4ms/step - accuracy: 0.8710 - loss: 0.6621 - val_accuracy: 0.8905 - val_loss: 0.5232\n",
            "Epoch 14/15\n",
            "\u001b[1m1688/1688\u001b[0m \u001b[32m━━━━━━━━━━━━━━━━━━━━\u001b[0m\u001b[37m\u001b[0m \u001b[1m9s\u001b[0m 3ms/step - accuracy: 0.8748 - loss: 0.7509 - val_accuracy: 0.7993 - val_loss: 0.8740\n",
            "Epoch 15/15\n",
            "\u001b[1m1688/1688\u001b[0m \u001b[32m━━━━━━━━━━━━━━━━━━━━\u001b[0m\u001b[37m\u001b[0m \u001b[1m10s\u001b[0m 3ms/step - accuracy: 0.6776 - loss: 1.4145 - val_accuracy: 0.5642 - val_loss: 1.5862\n"
          ]
        }
      ]
    },
    {
      "cell_type": "code",
      "source": [
        "quartic_history = m4.fit(\n",
        "      train_x,train_y,\n",
        "      epochs=15,\n",
        "      verbose=1,\n",
        "      validation_data=(val_x,val_y),\n",
        "      )"
      ],
      "metadata": {
        "colab": {
          "base_uri": "https://localhost:8080/"
        },
        "id": "hX-TQhZwN4Bv",
        "outputId": "e7694d7a-8970-4ace-9dd6-26ee9ef57651"
      },
      "execution_count": null,
      "outputs": [
        {
          "output_type": "stream",
          "name": "stdout",
          "text": [
            "Epoch 1/15\n",
            "\u001b[1m1688/1688\u001b[0m \u001b[32m━━━━━━━━━━━━━━━━━━━━\u001b[0m\u001b[37m\u001b[0m \u001b[1m12s\u001b[0m 6ms/step - accuracy: 0.1837 - loss: 3959.5593 - val_accuracy: 0.1667 - val_loss: 2.3033\n",
            "Epoch 2/15\n",
            "\u001b[1m1688/1688\u001b[0m \u001b[32m━━━━━━━━━━━━━━━━━━━━\u001b[0m\u001b[37m\u001b[0m \u001b[1m10s\u001b[0m 6ms/step - accuracy: 0.1678 - loss: 162.1477 - val_accuracy: 0.1603 - val_loss: 2.2092\n",
            "Epoch 3/15\n",
            "\u001b[1m1688/1688\u001b[0m \u001b[32m━━━━━━━━━━━━━━━━━━━━\u001b[0m\u001b[37m\u001b[0m \u001b[1m8s\u001b[0m 5ms/step - accuracy: 0.1848 - loss: 231.2990 - val_accuracy: 0.1833 - val_loss: 2.6314\n",
            "Epoch 4/15\n",
            "\u001b[1m1688/1688\u001b[0m \u001b[32m━━━━━━━━━━━━━━━━━━━━\u001b[0m\u001b[37m\u001b[0m \u001b[1m11s\u001b[0m 5ms/step - accuracy: 0.2429 - loss: 9.4014 - val_accuracy: 0.2793 - val_loss: 1.9220\n",
            "Epoch 5/15\n",
            "\u001b[1m1688/1688\u001b[0m \u001b[32m━━━━━━━━━━━━━━━━━━━━\u001b[0m\u001b[37m\u001b[0m \u001b[1m10s\u001b[0m 6ms/step - accuracy: 0.2845 - loss: 8.9453 - val_accuracy: 0.2658 - val_loss: 1.9496\n",
            "Epoch 6/15\n",
            "\u001b[1m1688/1688\u001b[0m \u001b[32m━━━━━━━━━━━━━━━━━━━━\u001b[0m\u001b[37m\u001b[0m \u001b[1m9s\u001b[0m 5ms/step - accuracy: 0.2540 - loss: 2.4518 - val_accuracy: 0.2622 - val_loss: 1.8974\n",
            "Epoch 7/15\n",
            "\u001b[1m1688/1688\u001b[0m \u001b[32m━━━━━━━━━━━━━━━━━━━━\u001b[0m\u001b[37m\u001b[0m \u001b[1m9s\u001b[0m 5ms/step - accuracy: 0.2780 - loss: 4.5362 - val_accuracy: 0.2860 - val_loss: 1.8355\n",
            "Epoch 8/15\n",
            "\u001b[1m1688/1688\u001b[0m \u001b[32m━━━━━━━━━━━━━━━━━━━━\u001b[0m\u001b[37m\u001b[0m \u001b[1m10s\u001b[0m 6ms/step - accuracy: 0.2787 - loss: 2.2922 - val_accuracy: 0.3220 - val_loss: 1.7988\n",
            "Epoch 9/15\n",
            "\u001b[1m1688/1688\u001b[0m \u001b[32m━━━━━━━━━━━━━━━━━━━━\u001b[0m\u001b[37m\u001b[0m \u001b[1m8s\u001b[0m 5ms/step - accuracy: 0.3258 - loss: 5.4601 - val_accuracy: 0.2453 - val_loss: 1.8749\n",
            "Epoch 10/15\n",
            "\u001b[1m1688/1688\u001b[0m \u001b[32m━━━━━━━━━━━━━━━━━━━━\u001b[0m\u001b[37m\u001b[0m \u001b[1m10s\u001b[0m 5ms/step - accuracy: 0.2704 - loss: 671.5389 - val_accuracy: 0.2528 - val_loss: 1.9255\n",
            "Epoch 11/15\n",
            "\u001b[1m1688/1688\u001b[0m \u001b[32m━━━━━━━━━━━━━━━━━━━━\u001b[0m\u001b[37m\u001b[0m \u001b[1m11s\u001b[0m 5ms/step - accuracy: 0.2292 - loss: 3.2821 - val_accuracy: 0.2398 - val_loss: 1.9605\n",
            "Epoch 12/15\n",
            "\u001b[1m1688/1688\u001b[0m \u001b[32m━━━━━━━━━━━━━━━━━━━━\u001b[0m\u001b[37m\u001b[0m \u001b[1m10s\u001b[0m 6ms/step - accuracy: 0.2363 - loss: 1.9728 - val_accuracy: 0.2550 - val_loss: 3.2009\n",
            "Epoch 13/15\n",
            "\u001b[1m1688/1688\u001b[0m \u001b[32m━━━━━━━━━━━━━━━━━━━━\u001b[0m\u001b[37m\u001b[0m \u001b[1m8s\u001b[0m 5ms/step - accuracy: 0.2588 - loss: 28.2687 - val_accuracy: 0.2647 - val_loss: 2.2862\n",
            "Epoch 14/15\n",
            "\u001b[1m1688/1688\u001b[0m \u001b[32m━━━━━━━━━━━━━━━━━━━━\u001b[0m\u001b[37m\u001b[0m \u001b[1m9s\u001b[0m 6ms/step - accuracy: 0.2693 - loss: 392.8938 - val_accuracy: 0.2973 - val_loss: 1.7782\n",
            "Epoch 15/15\n",
            "\u001b[1m1688/1688\u001b[0m \u001b[32m━━━━━━━━━━━━━━━━━━━━\u001b[0m\u001b[37m\u001b[0m \u001b[1m9s\u001b[0m 6ms/step - accuracy: 0.2803 - loss: 1542.6848 - val_accuracy: 0.2992 - val_loss: 1.7687\n"
          ]
        }
      ]
    },
    {
      "cell_type": "code",
      "source": [
        "'''\n",
        "Function that plots the loss and accuracy for both training and validation\n",
        "'''\n",
        "\n",
        "def accuracy_plotter(v1,v2,v3,v4):\n",
        "  plt.style.use('dark_background')\n",
        "  epochs = range(len(v1.history['accuracy']))\n",
        "\n",
        "  #Below section of code is for the accuracy graph\n",
        "  plt.plot(epochs, v1.history['accuracy'],'r',linewidth=3, label='Linear',marker='o')\n",
        "  plt.plot(epochs, v2.history['accuracy'],'b',linewidth=3, label='quadratic',marker='o')\n",
        "  plt.plot(epochs, v3.history['accuracy'],'g',linewidth=3, label='Cubic',marker='o')\n",
        "  plt.plot(epochs, v4.history['accuracy'],'y',linewidth=3, label='Quartic',marker='o')\n",
        "\n",
        "  plt.xlabel('Number of epochs')\n",
        "  plt.ylabel('Numerical Value')\n",
        "  plt.title('Training Accuracy')\n",
        "  plt.legend()\n",
        "  plt.figure()\n",
        "\n",
        "  #Below section of code is for the validation graph\n",
        "  plt.plot(epochs, v1.history['val_accuracy'],'r',linewidth=3, label='Linear',marker='o')\n",
        "  plt.plot(epochs, v2.history['val_accuracy'],'b',linewidth=3, label='quadratic',marker='o')\n",
        "  plt.plot(epochs, v3.history['val_accuracy'],'g',linewidth=3, label='Cubic',marker='o')\n",
        "  plt.plot(epochs, v4.history['val_accuracy'],'y',linewidth=3, label='Quartic',marker='o')\n",
        "\n",
        "  plt.xlabel('Number of epochs')\n",
        "  plt.ylabel('Numerical Value')\n",
        "  plt.title('Validation Accuracy')\n",
        "  plt.legend()\n",
        "  plt.figure()\n",
        "\n",
        "  plt.show()"
      ],
      "metadata": {
        "id": "sVr5J9FKJ3XL"
      },
      "execution_count": null,
      "outputs": []
    },
    {
      "cell_type": "code",
      "source": [
        "#Plots the above details based on training outputs\n",
        "accuracy_plotter(v1=linear_history,v2=quad_history,v3=cubic_history,v4=quartic_history)"
      ],
      "metadata": {
        "colab": {
          "base_uri": "https://localhost:8080/",
          "height": 944
        },
        "id": "IlRRftf9J6Ri",
        "outputId": "d457b115-9e89-427a-c6f8-92f3d5817401"
      },
      "execution_count": null,
      "outputs": [
        {
          "output_type": "display_data",
          "data": {
            "text/plain": [
              "<Figure size 640x480 with 1 Axes>"
            ],
            "image/png": "[encoded data removed]"
          },
          "metadata": {}
        },
        {
          "output_type": "display_data",
          "data": {
            "text/plain": [
              "<Figure size 640x480 with 1 Axes>"
            ],
            "image/png": "[encoded data removed]"
          },
          "metadata": {}
        },
        {
          "output_type": "display_data",
          "data": {
            "text/plain": [
              "<Figure size 640x480 with 0 Axes>"
            ]
          },
          "metadata": {}
        }
      ]
    },
    {
      "cell_type": "code",
      "source": [
        "from sklearn.metrics import accuracy_score\n",
        "\n",
        "'''\n",
        "pi where i belongs to (1,4) represent the predictions of the models with respect to the test dataset defined earlier\n",
        "The corresponding y_hats refer to the class for which the probability is the highest\n",
        "\n",
        "'''\n",
        "#Creating the predictions from the test set for each of the models\n",
        "y_hat_linear=np.argmax(m1.predict(x_test,verbose=1),axis=-1)\n",
        "y_hat_quad=np.argmax(m2.predict(x_test,verbose=1),axis=-1)\n",
        "y_hat_cubic=np.argmax(m3.predict(x_test,verbose=1),axis=-1)\n",
        "y_hat_quar=np.argmax(m4.predict(x_test,verbose=1),axis=-1)\n",
        "\n",
        "#Checking Accuracy with the test data\n",
        "print(f'Test Data accuracy based on linear neuron is :{accuracy_score(y_test, y_hat_linear)*100} ')\n",
        "print(f'Test Data accuracy based on quadratic neuron is :{accuracy_score(y_test, y_hat_quad)*100} ')\n",
        "print(f'Test Data accuracy based on cubic neuron is :{accuracy_score(y_test, y_hat_cubic)*100} ')\n",
        "print(f'Test Data accuracy based on quartic neuron is :{accuracy_score(y_test, y_hat_quar)*100} ')"
      ],
      "metadata": {
        "colab": {
          "base_uri": "https://localhost:8080/"
        },
        "id": "Xh8szqG7J8tb",
        "outputId": "7eba612d-0045-4138-dcd5-b63d3299509f"
      },
      "execution_count": null,
      "outputs": [
        {
          "output_type": "stream",
          "name": "stdout",
          "text": [
            "\u001b[1m313/313\u001b[0m \u001b[32m━━━━━━━━━━━━━━━━━━━━\u001b[0m\u001b[37m\u001b[0m \u001b[1m1s\u001b[0m 1ms/step\n",
            "\u001b[1m313/313\u001b[0m \u001b[32m━━━━━━━━━━━━━━━━━━━━\u001b[0m\u001b[37m\u001b[0m \u001b[1m1s\u001b[0m 2ms/step\n",
            "\u001b[1m313/313\u001b[0m \u001b[32m━━━━━━━━━━━━━━━━━━━━\u001b[0m\u001b[37m\u001b[0m \u001b[1m1s\u001b[0m 2ms/step\n",
            "\u001b[1m313/313\u001b[0m \u001b[32m━━━━━━━━━━━━━━━━━━━━\u001b[0m\u001b[37m\u001b[0m \u001b[1m1s\u001b[0m 3ms/step\n",
            "Test Data accuracy based on linear neuron is :97.68 \n",
            "Test Data accuracy based on quadratic neuron is :96.54 \n",
            "Test Data accuracy based on cubic neuron is :55.57 \n",
            "Test Data accuracy based on quartic neuron is :30.220000000000002 \n"
          ]
        }
      ]
    },
    {
      "cell_type": "code",
      "source": [
        "#creation of a classification report\n",
        "\n",
        "from sklearn.metrics import classification_report\n",
        "print('the stats for the model with the linear neuron are as follows:')\n",
        "print(classification_report(y_test, y_hat_linear))\n",
        "\n",
        "print('the stats for the model with the quadratic neuron are as follows:')\n",
        "print(classification_report(y_test, y_hat_quad))\n",
        "\n",
        "print('the stats for the model with the cubic neuron are as follows:')\n",
        "print(classification_report(y_test, y_hat_cubic))\n",
        "\n",
        "print('the stats for the model with the quartic neuron are as follows:')\n",
        "print(classification_report(y_test, y_hat_quar))"
      ],
      "metadata": {
        "colab": {
          "base_uri": "https://localhost:8080/"
        },
        "id": "CXV1NyNyKChN",
        "outputId": "1feecd79-0bdc-4c4a-8553-1bb08bd532df"
      },
      "execution_count": null,
      "outputs": [
        {
          "output_type": "stream",
          "name": "stdout",
          "text": [
            "the stats for the model with the linear neuron are as follows:\n",
            "              precision    recall  f1-score   support\n",
            "\n",
            "           0       0.99      0.99      0.99       980\n",
            "           1       1.00      0.98      0.99      1135\n",
            "           2       0.96      0.98      0.97      1032\n",
            "           3       0.97      0.97      0.97      1010\n",
            "           4       0.98      0.98      0.98       982\n",
            "           5       0.98      0.97      0.97       892\n",
            "           6       0.99      0.98      0.98       958\n",
            "           7       0.97      0.98      0.97      1028\n",
            "           8       0.96      0.97      0.97       974\n",
            "           9       0.98      0.96      0.97      1009\n",
            "\n",
            "    accuracy                           0.98     10000\n",
            "   macro avg       0.98      0.98      0.98     10000\n",
            "weighted avg       0.98      0.98      0.98     10000\n",
            "\n",
            "the stats for the model with the quadratic neuron are as follows:\n",
            "              precision    recall  f1-score   support\n",
            "\n",
            "           0       0.97      0.99      0.98       980\n",
            "           1       0.98      0.99      0.99      1135\n",
            "           2       0.98      0.96      0.97      1032\n",
            "           3       0.95      0.98      0.96      1010\n",
            "           4       0.96      0.95      0.96       982\n",
            "           5       0.98      0.93      0.96       892\n",
            "           6       0.98      0.97      0.98       958\n",
            "           7       0.96      0.97      0.96      1028\n",
            "           8       0.94      0.95      0.95       974\n",
            "           9       0.94      0.96      0.95      1009\n",
            "\n",
            "    accuracy                           0.97     10000\n",
            "   macro avg       0.97      0.96      0.97     10000\n",
            "weighted avg       0.97      0.97      0.97     10000\n",
            "\n",
            "the stats for the model with the cubic neuron are as follows:\n",
            "              precision    recall  f1-score   support\n",
            "\n",
            "           0       0.36      0.90      0.52       980\n",
            "           1       0.99      0.95      0.97      1135\n",
            "           2       0.95      0.74      0.84      1032\n",
            "           3       0.88      0.81      0.85      1010\n",
            "           4       0.91      0.21      0.34       982\n",
            "           5       0.93      0.28      0.43       892\n",
            "           6       0.96      0.63      0.76       958\n",
            "           7       0.03      0.00      0.00      1028\n",
            "           8       0.15      0.05      0.08       974\n",
            "           9       0.28      0.88      0.42      1009\n",
            "\n",
            "    accuracy                           0.56     10000\n",
            "   macro avg       0.64      0.55      0.52     10000\n",
            "weighted avg       0.65      0.56      0.53     10000\n",
            "\n",
            "the stats for the model with the quartic neuron are as follows:\n",
            "              precision    recall  f1-score   support\n",
            "\n",
            "           0       0.00      0.00      0.00       980\n",
            "           1       0.84      0.94      0.89      1135\n",
            "           2       1.00      0.00      0.00      1032\n",
            "           3       0.36      0.06      0.11      1010\n",
            "           4       0.35      0.05      0.08       982\n",
            "           5       0.32      0.48      0.38       892\n",
            "           6       0.00      0.00      0.00       958\n",
            "           7       0.17      0.95      0.29      1028\n",
            "           8       0.34      0.45      0.39       974\n",
            "           9       0.06      0.00      0.00      1009\n",
            "\n",
            "    accuracy                           0.30     10000\n",
            "   macro avg       0.34      0.29      0.21     10000\n",
            "weighted avg       0.36      0.30      0.22     10000\n",
            "\n"
          ]
        },
        {
          "output_type": "stream",
          "name": "stderr",
          "text": [
            "/usr/local/lib/python3.10/dist-packages/sklearn/metrics/_classification.py:1531: UndefinedMetricWarning: Precision is ill-defined and being set to 0.0 in labels with no predicted samples. Use `zero_division` parameter to control this behavior.\n",
            "  _warn_prf(average, modifier, f\"{metric.capitalize()} is\", len(result))\n",
            "/usr/local/lib/python3.10/dist-packages/sklearn/metrics/_classification.py:1531: UndefinedMetricWarning: Precision is ill-defined and being set to 0.0 in labels with no predicted samples. Use `zero_division` parameter to control this behavior.\n",
            "  _warn_prf(average, modifier, f\"{metric.capitalize()} is\", len(result))\n",
            "/usr/local/lib/python3.10/dist-packages/sklearn/metrics/_classification.py:1531: UndefinedMetricWarning: Precision is ill-defined and being set to 0.0 in labels with no predicted samples. Use `zero_division` parameter to control this behavior.\n",
            "  _warn_prf(average, modifier, f\"{metric.capitalize()} is\", len(result))\n"
          ]
        }
      ]
    },
    {
      "cell_type": "code",
      "source": [
        "###Progress Check Point####\n",
        "#Given that the results for quadratic,linear types of neurons have similar\n",
        "# results, adversarial training will be carried out for them\n",
        "'''\n",
        "Function that returns the gradient of the input image\n",
        "'''\n",
        "loss_instance=tf.keras.losses.CategoricalCrossentropy()\n",
        "def adversary_creator(input_image,input_label,model_name):\n",
        "\n",
        "  input_image = tf.cast(input_image, dtype=tf.float32)\n",
        "  input_label = tf.cast(input_label, dtype=tf.float32)\n",
        "  input_image=tf.expand_dims(input_image, axis=0)#change to (1,28,28)\n",
        "  input_image=tf.expand_dims(input_image,axis=-1)#change to (1,28,28,1)\n",
        "\n",
        "  with tf.GradientTape(persistent=True) as tape:\n",
        "      tape.watch(input_image)\n",
        "      prediction = model_name(input_image)\n",
        "      loss = loss_instance(input_label, prediction)\n",
        "\n",
        "  gradient = tape.gradient(loss, input_image)\n",
        "  sign_gradient = tf.sign(gradient)\n",
        "\n",
        "  return sign_gradient.numpy()\n"
      ],
      "metadata": {
        "id": "k3ynSe--eyk9"
      },
      "execution_count": null,
      "outputs": []
    },
    {
      "cell_type": "code",
      "source": [
        "# Create a single adversarial example\n",
        "\n",
        "import random\n",
        "import matplotlib.pyplot as plt\n",
        "from matplotlib.image import imread\n",
        "\n",
        "q=train_x[0]\n",
        "print(q.shape)\n",
        "q1=tf.cast(q,dtype=tf.float32)\n",
        "#q.reshape(1,28,28,1)\n",
        "w=train_y[0]\n",
        "print(q1.shape)\n",
        "print(train_y[0].shape)\n",
        "#eth=q.reshape(-1)\n",
        "\n",
        "perturbations = adversary_creator(q,w,m1)\n",
        "#adv_q = q + perturbations * 0.01\n",
        "\n",
        "\"\"\"\n",
        "# Reshape and visualize the adversarial example\n",
        "plt.figure(figsize=(6, 3))\n",
        "plt.subplot(1, 2, 1)\n",
        "plt.title('Original Image')\n",
        "plt.imshow(q.reshape(28, 28), cmap='gray')  # Assuming input images are 28x28\n",
        "plt.axis('off')\n",
        "\n",
        "plt.subplot(1, 2, 2)\n",
        "plt.title('Adversarial Image')\n",
        "plt.imshow(adv_q.reshape(28, 28), cmap='gray')\n",
        "plt.axis('off')\n",
        "\n",
        "plt.show()\n",
        "\n",
        "\n",
        "# Optionally print predictions\n",
        "print('Prediction for original image:', np.argmax(m1.predict(q.reshape(1, 28, 28, 1))))\n",
        "print('Prediction for adversarial image:', np.argmax(m1.predict(adv_q.reshape(1, 28, 28, 1))))\n",
        "\"\"\"\n",
        "\n"
      ],
      "metadata": {
        "colab": {
          "base_uri": "https://localhost:8080/",
          "height": 408
        },
        "id": "boMDVNcVn0an",
        "outputId": "7465b122-6cfb-4c76-ef91-67787d0908b1"
      },
      "execution_count": null,
      "outputs": [
        {
          "output_type": "stream",
          "name": "stdout",
          "text": [
            "(28, 28)\n",
            "(28, 28)\n",
            "(10,)\n"
          ]
        },
        {
          "output_type": "error",
          "ename": "ValueError",
          "evalue": "Arguments `target` and `output` must have the same rank (ndim). Received: target.shape=(10,), output.shape=(1, 10)",
          "traceback": [
            "\u001b[0;31m---------------------------------------------------------------------------\u001b[0m",
            "\u001b[0;31mValueError\u001b[0m                                Traceback (most recent call last)",
            "\u001b[0;32m<ipython-input-20-d3caf5f25b2d>\u001b[0m in \u001b[0;36m<cell line: 16>\u001b[0;34m()\u001b[0m\n\u001b[1;32m     14\u001b[0m \u001b[0;31m#eth=q.reshape(-1)\u001b[0m\u001b[0;34m\u001b[0m\u001b[0;34m\u001b[0m\u001b[0m\n\u001b[1;32m     15\u001b[0m \u001b[0;34m\u001b[0m\u001b[0m\n\u001b[0;32m---> 16\u001b[0;31m \u001b[0mperturbations\u001b[0m \u001b[0;34m=\u001b[0m \u001b[0madversary_creator\u001b[0m\u001b[0;34m(\u001b[0m\u001b[0mq\u001b[0m\u001b[0;34m,\u001b[0m\u001b[0mw\u001b[0m\u001b[0;34m,\u001b[0m\u001b[0mm1\u001b[0m\u001b[0;34m)\u001b[0m\u001b[0;34m\u001b[0m\u001b[0;34m\u001b[0m\u001b[0m\n\u001b[0m\u001b[1;32m     17\u001b[0m \u001b[0;31m#adv_q = q + perturbations * 0.01\u001b[0m\u001b[0;34m\u001b[0m\u001b[0;34m\u001b[0m\u001b[0m\n\u001b[1;32m     18\u001b[0m \u001b[0;34m\u001b[0m\u001b[0m\n",
            "\u001b[0;32m<ipython-input-19-b72732ea3624>\u001b[0m in \u001b[0;36madversary_creator\u001b[0;34m(input_image, input_label, model_name)\u001b[0m\n\u001b[1;32m     15\u001b[0m       \u001b[0mtape\u001b[0m\u001b[0;34m.\u001b[0m\u001b[0mwatch\u001b[0m\u001b[0;34m(\u001b[0m\u001b[0minput_image\u001b[0m\u001b[0;34m)\u001b[0m\u001b[0;34m\u001b[0m\u001b[0;34m\u001b[0m\u001b[0m\n\u001b[1;32m     16\u001b[0m       \u001b[0mprediction\u001b[0m \u001b[0;34m=\u001b[0m \u001b[0mmodel_name\u001b[0m\u001b[0;34m(\u001b[0m\u001b[0minput_image\u001b[0m\u001b[0;34m)\u001b[0m\u001b[0;34m\u001b[0m\u001b[0;34m\u001b[0m\u001b[0m\n\u001b[0;32m---> 17\u001b[0;31m       \u001b[0mloss\u001b[0m \u001b[0;34m=\u001b[0m \u001b[0mloss_instance\u001b[0m\u001b[0;34m(\u001b[0m\u001b[0minput_label\u001b[0m\u001b[0;34m,\u001b[0m \u001b[0mprediction\u001b[0m\u001b[0;34m)\u001b[0m\u001b[0;34m\u001b[0m\u001b[0;34m\u001b[0m\u001b[0m\n\u001b[0m\u001b[1;32m     18\u001b[0m \u001b[0;34m\u001b[0m\u001b[0m\n\u001b[1;32m     19\u001b[0m   \u001b[0mgradient\u001b[0m \u001b[0;34m=\u001b[0m \u001b[0mtape\u001b[0m\u001b[0;34m.\u001b[0m\u001b[0mgradient\u001b[0m\u001b[0;34m(\u001b[0m\u001b[0mloss\u001b[0m\u001b[0;34m,\u001b[0m \u001b[0minput_image\u001b[0m\u001b[0;34m)\u001b[0m\u001b[0;34m\u001b[0m\u001b[0;34m\u001b[0m\u001b[0m\n",
            "\u001b[0;32m/usr/local/lib/python3.10/dist-packages/keras/src/losses/loss.py\u001b[0m in \u001b[0;36m__call__\u001b[0;34m(self, y_true, y_pred, sample_weight)\u001b[0m\n\u001b[1;32m     58\u001b[0m             )\n\u001b[1;32m     59\u001b[0m \u001b[0;34m\u001b[0m\u001b[0m\n\u001b[0;32m---> 60\u001b[0;31m             \u001b[0mlosses\u001b[0m \u001b[0;34m=\u001b[0m \u001b[0mself\u001b[0m\u001b[0;34m.\u001b[0m\u001b[0mcall\u001b[0m\u001b[0;34m(\u001b[0m\u001b[0my_true\u001b[0m\u001b[0;34m,\u001b[0m \u001b[0my_pred\u001b[0m\u001b[0;34m)\u001b[0m\u001b[0;34m\u001b[0m\u001b[0;34m\u001b[0m\u001b[0m\n\u001b[0m\u001b[1;32m     61\u001b[0m             \u001b[0mout_mask\u001b[0m \u001b[0;34m=\u001b[0m \u001b[0mgetattr\u001b[0m\u001b[0;34m(\u001b[0m\u001b[0mlosses\u001b[0m\u001b[0;34m,\u001b[0m \u001b[0;34m\"_keras_mask\"\u001b[0m\u001b[0;34m,\u001b[0m \u001b[0;32mNone\u001b[0m\u001b[0;34m)\u001b[0m\u001b[0;34m\u001b[0m\u001b[0;34m\u001b[0m\u001b[0m\n\u001b[1;32m     62\u001b[0m \u001b[0;34m\u001b[0m\u001b[0m\n",
            "\u001b[0;32m/usr/local/lib/python3.10/dist-packages/keras/src/losses/losses.py\u001b[0m in \u001b[0;36mcall\u001b[0;34m(self, y_true, y_pred)\u001b[0m\n\u001b[1;32m     25\u001b[0m     \u001b[0;32mdef\u001b[0m \u001b[0mcall\u001b[0m\u001b[0;34m(\u001b[0m\u001b[0mself\u001b[0m\u001b[0;34m,\u001b[0m \u001b[0my_true\u001b[0m\u001b[0;34m,\u001b[0m \u001b[0my_pred\u001b[0m\u001b[0;34m)\u001b[0m\u001b[0;34m:\u001b[0m\u001b[0;34m\u001b[0m\u001b[0;34m\u001b[0m\u001b[0m\n\u001b[1;32m     26\u001b[0m         \u001b[0my_true\u001b[0m\u001b[0;34m,\u001b[0m \u001b[0my_pred\u001b[0m \u001b[0;34m=\u001b[0m \u001b[0msqueeze_or_expand_to_same_rank\u001b[0m\u001b[0;34m(\u001b[0m\u001b[0my_true\u001b[0m\u001b[0;34m,\u001b[0m \u001b[0my_pred\u001b[0m\u001b[0;34m)\u001b[0m\u001b[0;34m\u001b[0m\u001b[0;34m\u001b[0m\u001b[0m\n\u001b[0;32m---> 27\u001b[0;31m         \u001b[0;32mreturn\u001b[0m \u001b[0mself\u001b[0m\u001b[0;34m.\u001b[0m\u001b[0mfn\u001b[0m\u001b[0;34m(\u001b[0m\u001b[0my_true\u001b[0m\u001b[0;34m,\u001b[0m \u001b[0my_pred\u001b[0m\u001b[0;34m,\u001b[0m \u001b[0;34m**\u001b[0m\u001b[0mself\u001b[0m\u001b[0;34m.\u001b[0m\u001b[0m_fn_kwargs\u001b[0m\u001b[0;34m)\u001b[0m\u001b[0;34m\u001b[0m\u001b[0;34m\u001b[0m\u001b[0m\n\u001b[0m\u001b[1;32m     28\u001b[0m \u001b[0;34m\u001b[0m\u001b[0m\n\u001b[1;32m     29\u001b[0m     \u001b[0;32mdef\u001b[0m \u001b[0mget_config\u001b[0m\u001b[0;34m(\u001b[0m\u001b[0mself\u001b[0m\u001b[0;34m)\u001b[0m\u001b[0;34m:\u001b[0m\u001b[0;34m\u001b[0m\u001b[0;34m\u001b[0m\u001b[0m\n",
            "\u001b[0;32m/usr/local/lib/python3.10/dist-packages/keras/src/losses/losses.py\u001b[0m in \u001b[0;36mcategorical_crossentropy\u001b[0;34m(y_true, y_pred, from_logits, label_smoothing, axis)\u001b[0m\n\u001b[1;32m   1719\u001b[0m         )\n\u001b[1;32m   1720\u001b[0m \u001b[0;34m\u001b[0m\u001b[0m\n\u001b[0;32m-> 1721\u001b[0;31m     return ops.categorical_crossentropy(\n\u001b[0m\u001b[1;32m   1722\u001b[0m         \u001b[0my_true\u001b[0m\u001b[0;34m,\u001b[0m \u001b[0my_pred\u001b[0m\u001b[0;34m,\u001b[0m \u001b[0mfrom_logits\u001b[0m\u001b[0;34m=\u001b[0m\u001b[0mfrom_logits\u001b[0m\u001b[0;34m,\u001b[0m \u001b[0maxis\u001b[0m\u001b[0;34m=\u001b[0m\u001b[0maxis\u001b[0m\u001b[0;34m\u001b[0m\u001b[0;34m\u001b[0m\u001b[0m\n\u001b[1;32m   1723\u001b[0m     )\n",
            "\u001b[0;32m/usr/local/lib/python3.10/dist-packages/keras/src/ops/nn.py\u001b[0m in \u001b[0;36mcategorical_crossentropy\u001b[0;34m(target, output, from_logits, axis)\u001b[0m\n\u001b[1;32m   1472\u001b[0m             \u001b[0mfrom_logits\u001b[0m\u001b[0;34m=\u001b[0m\u001b[0mfrom_logits\u001b[0m\u001b[0;34m,\u001b[0m \u001b[0maxis\u001b[0m\u001b[0;34m=\u001b[0m\u001b[0maxis\u001b[0m\u001b[0;34m\u001b[0m\u001b[0;34m\u001b[0m\u001b[0m\n\u001b[1;32m   1473\u001b[0m         ).symbolic_call(target, output)\n\u001b[0;32m-> 1474\u001b[0;31m     return backend.nn.categorical_crossentropy(\n\u001b[0m\u001b[1;32m   1475\u001b[0m         \u001b[0mtarget\u001b[0m\u001b[0;34m,\u001b[0m \u001b[0moutput\u001b[0m\u001b[0;34m,\u001b[0m \u001b[0mfrom_logits\u001b[0m\u001b[0;34m=\u001b[0m\u001b[0mfrom_logits\u001b[0m\u001b[0;34m,\u001b[0m \u001b[0maxis\u001b[0m\u001b[0;34m=\u001b[0m\u001b[0maxis\u001b[0m\u001b[0;34m\u001b[0m\u001b[0;34m\u001b[0m\u001b[0m\n\u001b[1;32m   1476\u001b[0m     )\n",
            "\u001b[0;32m/usr/local/lib/python3.10/dist-packages/keras/src/backend/tensorflow/nn.py\u001b[0m in \u001b[0;36mcategorical_crossentropy\u001b[0;34m(target, output, from_logits, axis)\u001b[0m\n\u001b[1;32m    578\u001b[0m         )\n\u001b[1;32m    579\u001b[0m     \u001b[0;32mif\u001b[0m \u001b[0mlen\u001b[0m\u001b[0;34m(\u001b[0m\u001b[0mtarget\u001b[0m\u001b[0;34m.\u001b[0m\u001b[0mshape\u001b[0m\u001b[0;34m)\u001b[0m \u001b[0;34m!=\u001b[0m \u001b[0mlen\u001b[0m\u001b[0;34m(\u001b[0m\u001b[0moutput\u001b[0m\u001b[0;34m.\u001b[0m\u001b[0mshape\u001b[0m\u001b[0;34m)\u001b[0m\u001b[0;34m:\u001b[0m\u001b[0;34m\u001b[0m\u001b[0;34m\u001b[0m\u001b[0m\n\u001b[0;32m--> 580\u001b[0;31m         raise ValueError(\n\u001b[0m\u001b[1;32m    581\u001b[0m             \u001b[0;34m\"Arguments `target` and `output` must have the same rank \"\u001b[0m\u001b[0;34m\u001b[0m\u001b[0;34m\u001b[0m\u001b[0m\n\u001b[1;32m    582\u001b[0m             \u001b[0;34m\"(ndim). Received: \"\u001b[0m\u001b[0;34m\u001b[0m\u001b[0;34m\u001b[0m\u001b[0m\n",
            "\u001b[0;31mValueError\u001b[0m: Arguments `target` and `output` must have the same rank (ndim). Received: target.shape=(10,), output.shape=(1, 10)"
          ]
        }
      ]
    },
    {
      "cell_type": "code",
      "source": [
        "train_x[0].shape\n",
        "#qq=train_x[0].reshape(-1)\n",
        "#qq.shape"
      ],
      "metadata": {
        "colab": {
          "base_uri": "https://localhost:8080/"
        },
        "id": "71eiFHCWoCjI",
        "outputId": "42872194-101b-4501-d227-6f0d7091c64d"
      },
      "execution_count": null,
      "outputs": [
        {
          "output_type": "execute_result",
          "data": {
            "text/plain": [
              "(28, 28)"
            ]
          },
          "metadata": {},
          "execution_count": 35
        }
      ]
    },
    {
      "cell_type": "code",
      "source": [
        "alpha=m1(train_x[0:10]).numpy()\n",
        "beta=np.argmax(alpha,axis=-1)\n",
        "print(beta)"
      ],
      "metadata": {
        "colab": {
          "base_uri": "https://localhost:8080/"
        },
        "id": "MGzocSgCxbim",
        "outputId": "6b28eaff-9173-4fb9-fe09-59e7da18a804"
      },
      "execution_count": null,
      "outputs": [
        {
          "output_type": "stream",
          "name": "stdout",
          "text": [
            "[8 1 6 9 8 0 2 1 0 1]\n"
          ]
        }
      ]
    },
    {
      "cell_type": "code",
      "source": [
        "m1(train_x[0][0])"
      ],
      "metadata": {
        "colab": {
          "base_uri": "https://localhost:8080/",
          "height": 426
        },
        "id": "MfL37ikD3vzN",
        "outputId": "b20c5e7c-2cd3-4692-f4d2-d3194cd9a017"
      },
      "execution_count": null,
      "outputs": [
        {
          "output_type": "error",
          "ename": "ValueError",
          "evalue": "Exception encountered when calling layer 'model' (type Functional).\n\nInput 0 of layer \"dense\" is incompatible with the layer: expected axis -1 of input shape to have value 784, but received input with shape (28, 1)\n\nCall arguments received by layer 'model' (type Functional):\n  • inputs=tf.Tensor(shape=(28,), dtype=float64)\n  • training=None\n  • mask=None",
          "traceback": [
            "\u001b[0;31m---------------------------------------------------------------------------\u001b[0m",
            "\u001b[0;31mValueError\u001b[0m                                Traceback (most recent call last)",
            "\u001b[0;32m<ipython-input-46-c43302b341dc>\u001b[0m in \u001b[0;36m<cell line: 1>\u001b[0;34m()\u001b[0m\n\u001b[0;32m----> 1\u001b[0;31m \u001b[0mm1\u001b[0m\u001b[0;34m(\u001b[0m\u001b[0mtrain_x\u001b[0m\u001b[0;34m[\u001b[0m\u001b[0;36m0\u001b[0m\u001b[0;34m]\u001b[0m\u001b[0;34m[\u001b[0m\u001b[0;36m0\u001b[0m\u001b[0;34m]\u001b[0m\u001b[0;34m)\u001b[0m\u001b[0;34m\u001b[0m\u001b[0;34m\u001b[0m\u001b[0m\n\u001b[0m",
            "\u001b[0;32m/usr/local/lib/python3.10/dist-packages/keras/src/utils/traceback_utils.py\u001b[0m in \u001b[0;36merror_handler\u001b[0;34m(*args, **kwargs)\u001b[0m\n\u001b[1;32m     68\u001b[0m             \u001b[0;31m# To get the full stack trace, call:\u001b[0m\u001b[0;34m\u001b[0m\u001b[0;34m\u001b[0m\u001b[0m\n\u001b[1;32m     69\u001b[0m             \u001b[0;31m# `tf.debugging.disable_traceback_filtering()`\u001b[0m\u001b[0;34m\u001b[0m\u001b[0;34m\u001b[0m\u001b[0m\n\u001b[0;32m---> 70\u001b[0;31m             \u001b[0;32mraise\u001b[0m \u001b[0me\u001b[0m\u001b[0;34m.\u001b[0m\u001b[0mwith_traceback\u001b[0m\u001b[0;34m(\u001b[0m\u001b[0mfiltered_tb\u001b[0m\u001b[0;34m)\u001b[0m \u001b[0;32mfrom\u001b[0m \u001b[0;32mNone\u001b[0m\u001b[0;34m\u001b[0m\u001b[0;34m\u001b[0m\u001b[0m\n\u001b[0m\u001b[1;32m     71\u001b[0m         \u001b[0;32mfinally\u001b[0m\u001b[0;34m:\u001b[0m\u001b[0;34m\u001b[0m\u001b[0;34m\u001b[0m\u001b[0m\n\u001b[1;32m     72\u001b[0m             \u001b[0;32mdel\u001b[0m \u001b[0mfiltered_tb\u001b[0m\u001b[0;34m\u001b[0m\u001b[0;34m\u001b[0m\u001b[0m\n",
            "\u001b[0;32m/usr/local/lib/python3.10/dist-packages/keras/src/engine/input_spec.py\u001b[0m in \u001b[0;36massert_input_compatibility\u001b[0;34m(input_spec, inputs, layer_name)\u001b[0m\n\u001b[1;32m    278\u001b[0m                     \u001b[0;32mNone\u001b[0m\u001b[0;34m,\u001b[0m\u001b[0;34m\u001b[0m\u001b[0;34m\u001b[0m\u001b[0m\n\u001b[1;32m    279\u001b[0m                 }:\n\u001b[0;32m--> 280\u001b[0;31m                     raise ValueError(\n\u001b[0m\u001b[1;32m    281\u001b[0m                         \u001b[0;34mf'Input {input_index} of layer \"{layer_name}\" is '\u001b[0m\u001b[0;34m\u001b[0m\u001b[0;34m\u001b[0m\u001b[0m\n\u001b[1;32m    282\u001b[0m                         \u001b[0;34mf\"incompatible with the layer: expected axis {axis} \"\u001b[0m\u001b[0;34m\u001b[0m\u001b[0;34m\u001b[0m\u001b[0m\n",
            "\u001b[0;31mValueError\u001b[0m: Exception encountered when calling layer 'model' (type Functional).\n\nInput 0 of layer \"dense\" is incompatible with the layer: expected axis -1 of input shape to have value 784, but received input with shape (28, 1)\n\nCall arguments received by layer 'model' (type Functional):\n  • inputs=tf.Tensor(shape=(28,), dtype=float64)\n  • training=None\n  • mask=None"
          ]
        }
      ]
    },
    {
      "cell_type": "code",
      "source": [],
      "metadata": {
        "id": "rQIJMM068dmg"
      },
      "execution_count": null,
      "outputs": []
    }
  ]
}